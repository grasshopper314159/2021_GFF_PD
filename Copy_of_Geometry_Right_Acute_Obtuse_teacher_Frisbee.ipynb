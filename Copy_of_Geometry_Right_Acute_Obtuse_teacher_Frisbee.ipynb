{
  "nbformat": 4,
  "nbformat_minor": 0,
  "metadata": {
    "kernelspec": {
      "display_name": "Python 3",
      "language": "python",
      "name": "python3"
    },
    "language_info": {
      "codemirror_mode": {
        "name": "ipython",
        "version": 3
      },
      "file_extension": ".py",
      "mimetype": "text/x-python",
      "name": "python",
      "nbconvert_exporter": "python",
      "pygments_lexer": "ipython3",
      "version": "3.7.6"
    },
    "colab": {
      "name": "Copy of Geometry-Right_Acute_Obtuse_teacher-Frisbee.ipynb",
      "provenance": [],
      "include_colab_link": true
    }
  },
  "cells": [
    {
      "cell_type": "markdown",
      "metadata": {
        "id": "view-in-github",
        "colab_type": "text"
      },
      "source": [
        "<a href=\"https://colab.research.google.com/github/grasshopper314159/2021_GFF_PD/blob/main/Copy_of_Geometry_Right_Acute_Obtuse_teacher_Frisbee.ipynb\" target=\"_parent\"><img src=\"https://colab.research.google.com/assets/colab-badge.svg\" alt=\"Open In Colab\"/></a>"
      ]
    },
    {
      "cell_type": "markdown",
      "metadata": {
        "id": "YyZC3asfPFbO"
      },
      "source": [
        "<div style=\"background-color: #FFB6C1 ; padding: 10px;\">\n",
        "\n",
        " <h1 style=padding:10px>Teacher Notes</h1>\n",
        "\n",
        "<p> In the module below you will notice four types of blocks. </p>\n",
        "    <li> The pink block is only in the teacher version and has hints just for the teacher.</li>\n",
        "        <li>The purple blocks focuses on paper and pencil responses from students.</li>\n",
        "      <li> The blue block is for learning python code information and trying steps in the code.</li>\n",
        "    <li> The pale blue or plain block is for running the python code. </li>\n",
        "    \n",
        "</div> "
      ]
    },
    {
      "cell_type": "markdown",
      "metadata": {
        "id": "0lBezsWSPFbR"
      },
      "source": [
        "<div style=\"background-color: #DDA0DD ; padding: 10px;\">\n",
        "\n",
        " <h1 style=padding:10px>Part I: Determining if a Triangle is Right, Acute, or Obtuse.</h1>\n",
        "  <p>Pythagoream Theorem is used to verify if a triangle is a right triangle (contains a right angle) or not.\n",
        "      <li> What if the triangle is not a right triangle? <li> What kind of triangle is it?<li>What options are left?  </li>\n",
        "      <p>The triangle must be either obtuse or acute.\n",
        "Pythagorean Converse is used to determine if the triangle is acute or if it is obtuse. The formulas you need are found below.  Please notice that they are very similar to the original Pythagoream theorem, which has aslso been included. </p>\n",
        "  <p> Obtuse Triangle: $ { c^2 > a^2 +b^2} $\n",
        "  <p> Acute Triangle : $ { c^2 < a^2 +b^2}$\n",
        "  <p> Right Triangle : $ { c^2 = a^2 +b^2}$ \n",
        "\n",
        "<h2>Exercise 1:</h2>\n",
        "    <h3>On paper, determine what type of triangle you will get if the side lengths are: </h3>\n",
        "  <li>  a = 9\n",
        "    <li> b = 5 \n",
        "    <li> c = 13 </li>  <h3>Check your answer with a partner.\n",
        "    </h3>\n",
        "    \n",
        "   \n",
        "</div>"
      ]
    },
    {
      "cell_type": "markdown",
      "metadata": {
        "id": "gWGX9ZCoPFbS"
      },
      "source": [
        "<div style=\"background-color: #BCDBF5 ; padding: 10px;\">\n",
        "\n",
        " <h1 style=padding:10px>Writing Python code: Define a Variable, use Python Operators and use If...Else loops</h1>,\n",
        " \n",
        "      \n",
        "<table style=\"background-color: #BCDBF5; align=\"left\":\"font-size:100px\" >\n",
        "  <tr >\n",
        "    <th>Operator</th>\n",
        "    <th>Python Operator</th>\n",
        "    <th>Example</th>\n",
        "  </tr>\n",
        "  <tr>\n",
        "    <td>Addition</td>\n",
        "    <td><center>+</center></td>\n",
        "    <td>8 + 8 =16</td>\n",
        "  </tr>\n",
        "  <tr>\n",
        "    <td>Subtraction</td>\n",
        "    <td><center>-</center></td>\n",
        "    <td>10 - 5 = 5</td>\n",
        "  </tr>\n",
        "  <tr>\n",
        "    <td>Multiplication</td>\n",
        "    <td><center>*</center></td>\n",
        "    <td>8 * 8 = 64</td>\n",
        "  </tr>\n",
        "  <tr>\n",
        "    <td>Division</td>\n",
        "    <td><center>/</center></td>\n",
        "    <td>8 / 2 = 2</td>\n",
        "  </tr>\n",
        "  <tr>\n",
        "    <td>Exponent</td>\n",
        "    <td><center>**</center></td>\n",
        "    <td>4**2 = 16</td>  \n",
        "  </tr>\n",
        "                               </table>\n",
        "                                    \n",
        "  \n",
        "       \n",
        "\n",
        "\n",
        "<h2>Instructions:(Using the lengths of the sides above)</h2>\n",
        "\n",
        "<ol> \n",
        "<li>In Python coding we can assign a name or value to a variable.  The = sign tells the program that you have renamed an object. For example:  <code>c = 13</code> uses our value from c above.  We could also write a formula in the code and assign it.   <code>slope_intercept = mx + b</code>, Here I assigned or named the variable slope_intercept.  Notice the underscore between words.  Python does not like spaces.  </li>\n",
        "                                                                       \n",
        "   <p>  <li> On lines 4, 5, and 6 assign the values from Excersise 1 to the variables  a, b and c.</li> </p>\n",
        "                                                                       \n",
        "   <p><li>  Python coding can use formulas to solve mathematical questions.  We can code a program to use Pythagorean Theorem and Pythagorean Converse to solve for a triangle type.  Order of oeration in Python and math are the same. Following PEMDAS and the table above you can write the equations needed.  Remember to use parenthesis to further define the order of operations required, especially when using exponents. </li></p>    \n",
        "                                                                       \n",
        "   <p> <li>On lines 8, 9 ,10 use the table of Python Operators and Pythagorean formulas provided above to show the computation needed for each definition.  Don't forget parenthesis,if needed!</li></p>\n",
        "                                                                       \n",
        "   <p> <li>Run the cell to see the output.  Did the answer match yours?  Make sure you put the correct values in for a,b, and c </li><br></p>\n",
        "\n",
        "\n",
        "</ol>\n",
        "\n",
        "</div>\n",
        "    \n",
        "\n",
        "    \n",
        "\n"
      ]
    },
    {
      "cell_type": "code",
      "metadata": {
        "id": "kBZfCUSQPFbT",
        "outputId": "957a5746-e211-4cc2-d582-c07b342b1d08"
      },
      "source": [
        "import math\n",
        "\n",
        "#Enter the length of the legs and Hypotenuse of any triangle\n",
        "a=9\n",
        "b=5\n",
        "c=13\n",
        "\n",
        "sum_of_legs = a + b\n",
        "c_squared = c**2\n",
        "Sum_of_the_legs_squared = (a**2) +(b**2)\n",
        "\n",
        "#Triangle Inequality\n",
        "if sum_of_legs < c:\n",
        "   print(a,b,c,\" cannot be the side lengths of a triangle.They do not make a triangle\")\n",
        "else:\n",
        "    \n",
        "#Pythagorean Converse\n",
        "    if c_squared == Sum_of_the_legs_squared:\n",
        "        print (a,b,c,\" creates a right triangle\")\n",
        "    \n",
        "    elif c_squared > Sum_of_the_legs_squared:\n",
        "        print (a,b,c,\" creates an obtuse triangle\")\n",
        "    \n",
        "    else: \n",
        "        print (a,b,c,\" creates an acute triangle\")"
      ],
      "execution_count": null,
      "outputs": [
        {
          "name": "stdout",
          "output_type": "stream",
          "text": [
            "9 5 13  creates an obtuse triangle\n"
          ]
        }
      ]
    },
    {
      "cell_type": "markdown",
      "metadata": {
        "id": "9mN_BbBnPFbV"
      },
      "source": [
        "<div style=\"background-color: #DDA0DD ; padding: 10px;\">\n",
        "\n",
        " <h1 style=padding:10px>Reflection</h1>\n",
        "        \n",
        "<ol>\n",
        "<p>  <li> With a partner, discuss what the purpose of line 13 is.  Would it matter if this line was removed? Why or why not?</li><br>\n",
        "  <p>  <li> In line 24, the else statement does not have any conditions on it like those on line 18 and 21.  Why are condidtions not needed at this point? Explain it in terms someone not reading the code could understand.</li>\n",
        "\n",
        "</ol>   \n",
        "    \n",
        "</div>   "
      ]
    },
    {
      "cell_type": "markdown",
      "metadata": {
        "id": "b8pTPX9RPFbV"
      },
      "source": [
        "<div style=\"background-color: #FFB6C1 ; padding: 10px;\"\n",
        "\n",
        " <h1 style=padding:10px>Teacher Notes</h1>\n",
        "<p> This would be a great place to stop and discuss as a class their reflection question from part I.  This helps explain the loop in the if...else and make sure they understand if it is not a right triangle or an obtuse triangle, then the only option left is acute.  Becuase it is the only option they don't need to define it in the else statement. </p><br>\n",
        "\n",
        "<p>The next section focuses on Triangel inequality and the need to verify a triangle exsits before classifying.  Just like on paper, the code will let you classify a triangle that will not work if it is enetered incorrectly.  Students need to remember to enter the largest value as c. </p>\n",
        "\n",
        "</div>"
      ]
    },
    {
      "cell_type": "markdown",
      "metadata": {
        "id": "GWJoSZuKPFbW"
      },
      "source": [
        "<div style=\"background-color: #DDA0DD ; padding: 10px;\">\n",
        "<h1 style=padding:10px>Part II: More work with classifying a Triangle as Right, Acute, or Obtuse.</h1>\n",
        "\n",
        "\n",
        "<h2>Exercise 2: Given side lengths of:</h2>\n",
        "    <li> a = 2 </li> <li>b = 5</li> <li>c = 9</li>  <h2>What can you conclude?</h2>\n",
        "    \n",
        " </ol>\n",
        "\n",
        "</div>\n",
        "\n",
        "\n",
        "  \n",
        "\n",
        "\n",
        "\n",
        "    \n"
      ]
    },
    {
      "cell_type": "markdown",
      "metadata": {
        "id": "XbFDlhTkPFbW"
      },
      "source": [
        "\n",
        "<div style=\"background-color: #BCDBF5 ; padding: 10px;\">\n",
        "\n",
        " <h1 style=padding:10px>Writing Python code: Define a Variable, use Python Operators and use If...Else loops</h1>\n",
        "Input the values for lines 4,5,6 below to test your conclusion. (Don't forget to transfer your equations from lnes 8,9,and 10)\n",
        "</h2>\n",
        "    \n",
        "<h2>Instructions:</h2>\n",
        "    <li>Did This result change any of your thoughts from the first question? </li>"
      ]
    },
    {
      "cell_type": "code",
      "metadata": {
        "id": "moMVXcO3PFbW",
        "outputId": "18221199-a855-47ba-ceae-b73f95087a07"
      },
      "source": [
        "import math\n",
        "\n",
        "#Enter the length of the legs and Hypotenuse of any triangle\n",
        "a=2\n",
        "b=5\n",
        "c=9\n",
        "\n",
        "sum_of_legs = a + b\n",
        "c_squared = c**2\n",
        "Sum_of_the_legs_squared = (a**2) +(b**2)\n",
        "\n",
        "#Triangle Inequality\n",
        "if sum_of_legs < c:\n",
        "   print(a,b,c,\" cannot be the side lengths of a triangle.They do not make a triangle\")\n",
        "else:\n",
        "    \n",
        "#Pythagorean Converse\n",
        "    if c_squared == Sum_of_the_legs_squared:\n",
        "        print (a,b,c,\" create a right triangle\")\n",
        "    \n",
        "    elif c_squared > Sum_of_the_legs_squared:\n",
        "        print (a,b,c,\" create an obtuse triangle\")\n",
        "    \n",
        "    else: \n",
        "        print (a,b,c,\" create an acute triangle\")"
      ],
      "execution_count": null,
      "outputs": [
        {
          "name": "stdout",
          "output_type": "stream",
          "text": [
            "2 5 9  cannot be the side lengths of a triangle.They do not make a triangle\n"
          ]
        }
      ]
    },
    {
      "cell_type": "code",
      "metadata": {
        "id": "2zU1Ji7hPFbX"
      },
      "source": [
        ""
      ],
      "execution_count": null,
      "outputs": []
    },
    {
      "cell_type": "code",
      "metadata": {
        "id": "-Tha1oyBPFbX"
      },
      "source": [
        ""
      ],
      "execution_count": null,
      "outputs": []
    }
  ]
}